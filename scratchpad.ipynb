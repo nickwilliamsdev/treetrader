{
 "cells": [
  {
   "cell_type": "code",
   "execution_count": 2,
   "id": "65fa1eb9",
   "metadata": {},
   "outputs": [
    {
     "name": "stderr",
     "output_type": "stream",
     "text": [
      "c:\\Users\\nick5\\miniconda3\\envs\\tree-env\\Lib\\site-packages\\requests\\__init__.py:86: RequestsDependencyWarning: Unable to find acceptable character detection dependency (chardet or charset_normalizer).\n",
      "  warnings.warn(\n"
     ]
    },
    {
     "name": "stdout",
     "output_type": "stream",
     "text": [
      "         date      open      high       low     close      vwap           vol\n",
      "0  1694390400  0.249169  0.249169  0.236997  0.242000  0.241745  1.630805e+06\n",
      "1  1694476800  0.242000  0.252356  0.240993  0.245998  0.248591  1.011622e+06\n",
      "2  1694563200  0.245534  0.249705  0.243873  0.248728  0.247799  2.463036e+05\n",
      "3  1694649600  0.248832  0.252286  0.246532  0.251329  0.249129  1.596386e+05\n",
      "4  1694736000  0.251267  0.254644  0.237800  0.250528  0.244553  3.753199e+06\n"
     ]
    }
   ],
   "source": [
    "from api_wrappers import KrakenWrapper\n",
    "\n",
    "w = KrakenWrapper(\"4hr\")\n",
    "\n",
    "d = w.load_hist_files()\n",
    "\n",
    "syms = list(d.keys())\n",
    "\n",
    "print(d[syms[0]].head())  # Display first few rows of the first symbol's DataFrame"
   ]
  },
  {
   "cell_type": "code",
   "execution_count": null,
   "id": "e314f945",
   "metadata": {},
   "outputs": [],
   "source": []
  }
 ],
 "metadata": {
  "kernelspec": {
   "display_name": "tree-env",
   "language": "python",
   "name": "python3"
  },
  "language_info": {
   "codemirror_mode": {
    "name": "ipython",
    "version": 3
   },
   "file_extension": ".py",
   "mimetype": "text/x-python",
   "name": "python",
   "nbconvert_exporter": "python",
   "pygments_lexer": "ipython3",
   "version": "3.11.11"
  }
 },
 "nbformat": 4,
 "nbformat_minor": 5
}
