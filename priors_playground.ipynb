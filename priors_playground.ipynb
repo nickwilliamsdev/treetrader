{
 "cells": [
  {
   "cell_type": "code",
   "execution_count": 1,
   "id": "2955e092",
   "metadata": {},
   "outputs": [],
   "source": [
    "import os\n",
    "import pandas as pd\n",
    "from feature_functions import apply_zscore_signal\n",
    "from utils.backtester import Backtester\n",
    "\n",
    "# Directory containing asset data\n",
    "asset_dir = './hist_data/crypto/kraken_4hr/'\n",
    "\n",
    "# Initialize EV dictionary\n",
    "asset_ev_dict = {}\n",
    "df_dict = {}\n",
    "reg_window = 5\n",
    "reg_thresh = .75\n",
    "# Iterate over all assets\n",
    "for asset_file in os.listdir(asset_dir):\n",
    "    if asset_file.endswith('.txt'):\n",
    "        asset_path = os.path.join(asset_dir, asset_file)\n",
    "        df = pd.read_csv(asset_path, sep=',')\n",
    "        df['Date'] = pd.to_datetime(df['date'], unit='s')\n",
    "        df_dict[asset_file] = df"
   ]
  },
  {
   "cell_type": "code",
   "execution_count": null,
   "id": "50bd8105",
   "metadata": {},
   "outputs": [],
   "source": [
    "from statsmodels.graphics.tsaplots import plot_acf, plot_pacf\n",
    "import matplotlib.pyplot as plt\n",
    "\n",
    "keys = list(df_dict.keys())\n",
    "\n",
    "test_df = df_dict[keys[0]]\n",
    "\n",
    "\n",
    "returns = test_df['close'].pct_change().dropna()\n",
    "\n",
    "# Plot ACF and PACF\n",
    "plt.figure(figsize=(12, 6))\n",
    "plot_acf(returns, lags=20, title=\"ACF of Returns\")\n",
    "plot_pacf(returns, lags=20, title=\"PACF of Returns\")\n",
    "plt.show()"
   ]
  }
 ],
 "metadata": {
  "kernelspec": {
   "display_name": "tree-env",
   "language": "python",
   "name": "python3"
  },
  "language_info": {
   "codemirror_mode": {
    "name": "ipython",
    "version": 3
   },
   "file_extension": ".py",
   "mimetype": "text/x-python",
   "name": "python",
   "nbconvert_exporter": "python",
   "pygments_lexer": "ipython3",
   "version": "3.11.11"
  }
 },
 "nbformat": 4,
 "nbformat_minor": 5
}
