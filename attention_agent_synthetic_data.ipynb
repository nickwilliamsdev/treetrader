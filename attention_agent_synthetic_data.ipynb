{
 "cells": [
  {
   "cell_type": "code",
   "execution_count": null,
   "id": "9b6f85aa",
   "metadata": {},
   "outputs": [],
   "source": [
    "import numpy as np\n",
    "import random\n",
    "from networks.attention_agent import CausalAttentionAgent\n",
    "import torch\n",
    "from utils.trading_gym_env import TradingEnv\n",
    "from utils.synthetic_data_service import SyntheticOHLCVGenerator\n",
    "import pandas as pd\n",
    "import matplotlib.pyplot as plt\n",
    "from diffevo import DDIMScheduler, BayesianGenerator\n",
    "from torch.nn.utils import parameters_to_vector, vector_to_parameters\n",
    "from utils.fitess_funcs import batched_fitness_function\n",
    "from api_wrappers.kraken_wrapper import KrakenWrapper\n",
    "from utils.feature_functions import apply_slope_features, ensemble_features"
   ]
  }
 ],
 "metadata": {
  "language_info": {
   "name": "python"
  }
 },
 "nbformat": 4,
 "nbformat_minor": 5
}
