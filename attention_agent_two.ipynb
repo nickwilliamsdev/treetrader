{
 "cells": [
  {
   "cell_type": "code",
   "execution_count": 1,
   "id": "65f940c3",
   "metadata": {},
   "outputs": [
    {
     "name": "stderr",
     "output_type": "stream",
     "text": [
      "c:\\Users\\nick5\\miniconda3\\envs\\tree-env\\Lib\\site-packages\\requests\\__init__.py:86: RequestsDependencyWarning: Unable to find acceptable character detection dependency (chardet or charset_normalizer).\n",
      "  warnings.warn(\n"
     ]
    }
   ],
   "source": [
    "from api_wrappers.kraken_wrapper import KrakenWrapper\n",
    "\n",
    "wrapper = KrakenWrapper(lb_interval=\"4hr\")\n",
    "\n",
    "hist_dict = wrapper.load_hist_files()"
   ]
  },
  {
   "cell_type": "code",
   "execution_count": 3,
   "id": "34918f12",
   "metadata": {},
   "outputs": [
    {
     "name": "stdout",
     "output_type": "stream",
     "text": [
      "22\n"
     ]
    }
   ],
   "source": [
    "print(len(hist_dict))"
   ]
  },
  {
   "cell_type": "code",
   "execution_count": null,
   "id": "145ab64c",
   "metadata": {},
   "outputs": [],
   "source": []
  }
 ],
 "metadata": {
  "kernelspec": {
   "display_name": "tree-env",
   "language": "python",
   "name": "python3"
  },
  "language_info": {
   "codemirror_mode": {
    "name": "ipython",
    "version": 3
   },
   "file_extension": ".py",
   "mimetype": "text/x-python",
   "name": "python",
   "nbconvert_exporter": "python",
   "pygments_lexer": "ipython3",
   "version": "3.11.11"
  }
 },
 "nbformat": 4,
 "nbformat_minor": 5
}
