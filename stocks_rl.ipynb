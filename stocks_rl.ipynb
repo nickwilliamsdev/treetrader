{
 "cells": [
  {
   "cell_type": "code",
   "execution_count": null,
   "id": "15b6de65",
   "metadata": {},
   "outputs": [],
   "source": [
    "import pandas as pd\n",
    "ETF_NAME = './hist_data/stocks/ERX.txt'\n",
    "\n",
    "df = pd.read_csv(ETF_NAME, sep=',')\n",
    "\n",
    "df['Date'] = pd.to_datetime(df['Date'])\n",
    "df.index = range(len(df))\n",
    "\n",
    "df.head()"
   ]
  }
 ],
 "metadata": {
  "language_info": {
   "name": "python"
  }
 },
 "nbformat": 4,
 "nbformat_minor": 5
}
